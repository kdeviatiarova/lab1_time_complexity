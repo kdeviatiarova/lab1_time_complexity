{
 "cells": [
  {
   "cell_type": "code",
   "execution_count": null,
   "outputs": [],
   "source": [
    "import numpy as np\n",
    "import time\n",
    "import statistics\n",
    "import math\n",
    "import random\n",
    "from decimal import *"
   ],
   "metadata": {
    "collapsed": false,
    "pycharm": {
     "name": "#%%\n"
    }
   }
  },
  {
   "cell_type": "markdown",
   "source": [
    "## Timsort"
   ],
   "metadata": {
    "collapsed": false,
    "pycharm": {
     "name": "#%% md\n"
    }
   }
  },
  {
   "cell_type": "code",
   "execution_count": null,
   "outputs": [],
   "source": [
    "# Python3 program to perform basic timSort\n",
    "MIN_MERGE = 32\n",
    "\n",
    "\n",
    "def calcMinRun(n):\n",
    "\t\"\"\"Returns the minimum length of a\n",
    "\trun from 23 - 64 so that\n",
    "\tthe len(array)/minrun is less than or\n",
    "\tequal to a power of 2.\n",
    "\n",
    "\te.g. 1=>1, ..., 63=>63, 64=>32, 65=>33,\n",
    "\t..., 127=>64, 128=>32, ...\n",
    "\t\"\"\"\n",
    "\tr = 0\n",
    "\twhile n >= MIN_MERGE:\n",
    "\t\tr |= n & 1\n",
    "\t\tn >>= 1\n",
    "\treturn n + r\n",
    "\n",
    "\n",
    "# This function sorts array from left index to\n",
    "# to right index which is of size atmost RUN\n",
    "def insertionSort(arr, left, right):\n",
    "\tfor i in range(left + 1, right + 1):\n",
    "\t\tj = i\n",
    "\t\twhile j > left and arr[j] < arr[j - 1]:\n",
    "\t\t\tarr[j], arr[j - 1] = arr[j - 1], arr[j]\n",
    "\t\t\tj -= 1\n",
    "\n",
    "\n",
    "# Merge function merges the sorted runs\n",
    "def merge(arr, l, m, r):\n",
    "\n",
    "\t# original array is broken in two parts\n",
    "\t# left and right array\n",
    "\tlen1, len2 = m - l + 1, r - m\n",
    "\tleft, right = [], []\n",
    "\tfor i in range(0, len1):\n",
    "\t\tleft.append(arr[l + i])\n",
    "\tfor i in range(0, len2):\n",
    "\t\tright.append(arr[m + 1 + i])\n",
    "\n",
    "\ti, j, k = 0, 0, l\n",
    "\n",
    "\t# after comparing, we merge those two array\n",
    "\t# in larger sub array\n",
    "\twhile i < len1 and j < len2:\n",
    "\t\tif left[i] <= right[j]:\n",
    "\t\t\tarr[k] = left[i]\n",
    "\t\t\ti += 1\n",
    "\n",
    "\t\telse:\n",
    "\t\t\tarr[k] = right[j]\n",
    "\t\t\tj += 1\n",
    "\n",
    "\t\tk += 1\n",
    "\n",
    "\t# Copy remaining elements of left, if any\n",
    "\twhile i < len1:\n",
    "\t\tarr[k] = left[i]\n",
    "\t\tk += 1\n",
    "\t\ti += 1\n",
    "\n",
    "\t# Copy remaining element of right, if any\n",
    "\twhile j < len2:\n",
    "\t\tarr[k] = right[j]\n",
    "\t\tk += 1\n",
    "\t\tj += 1\n",
    "\n",
    "\n",
    "# Iterative Timsort function to sort the\n",
    "# array[0...n-1] (similar to merge sort)\n",
    "def timSort(arr):\n",
    "\tn = len(arr)\n",
    "\tminRun = calcMinRun(n)\n",
    "\n",
    "\t# Sort individual subarrays of size RUN\n",
    "\tfor start in range(0, n, minRun):\n",
    "\t\tend = min(start + minRun - 1, n - 1)\n",
    "\t\tinsertionSort(arr, start, end)\n",
    "\n",
    "\t# Start merging from size RUN (or 32). It will merge\n",
    "\t# to form size 64, then 128, 256 and so on ....\n",
    "\tsize = minRun\n",
    "\twhile size < n:\n",
    "\n",
    "\t\t# Pick starting point of left sub array. We\n",
    "\t\t# are going to merge arr[left..left+size-1]\n",
    "\t\t# and arr[left+size, left+2*size-1]\n",
    "\t\t# After every merge, we increase left by 2*size\n",
    "\t\tfor left in range(0, n, 2 * size):\n",
    "\n",
    "\t\t\t# Find ending point of left sub array\n",
    "\t\t\t# mid+1 is starting point of right sub array\n",
    "\t\t\tmid = min(n - 1, left + size - 1)\n",
    "\t\t\tright = min((left + 2 * size - 1), (n - 1))\n",
    "\n",
    "\t\t\t# Merge sub array arr[left.....mid] &\n",
    "\t\t\t# arr[mid+1....right]\n",
    "\t\t\tif mid < right:\n",
    "\t\t\t\tmerge(arr, left, mid, right)\n",
    "\n",
    "\t\tsize = 2 * size"
   ],
   "metadata": {
    "collapsed": false,
    "pycharm": {
     "name": "#%%\n"
    }
   }
  },
  {
   "cell_type": "code",
   "execution_count": null,
   "outputs": [],
   "source": [
    "def generateRandomVector(size):\n",
    "    # arr = [random.randint(0, 99) for _ in range(size)] # too slow!\n",
    "    arr = np.random.randint(low=0, high=99, size=size)\n",
    "    return arr\n",
    "\n",
    "# O(1)\n",
    "# Regardlessly of the input data size,\n",
    "# it will always have the same running time\n",
    "# since it only gets the first value from the list.\n",
    "def getFirst(arr):\n",
    "    return arr[0]\n",
    "\n",
    "# O(n)\n",
    "def sumOfElements(arr):\n",
    "    result = 0\n",
    "    for each in arr:\n",
    "        result += each\n",
    "    return result\n",
    "\n",
    "def productOfElements(arr):\n",
    "    # Multiply elements one by one\n",
    "    result = math.prod(arr)\n",
    "    # or\n",
    "\t# result = 0\n",
    "    # for each in arr:\n",
    "    #     result *= each\n",
    "    return result\n",
    "\n",
    "# O(n^2)\n",
    "def bubbleSort(arr):\n",
    "    swapped = True\n",
    "    while swapped:\n",
    "        swapped = False\n",
    "        for i in range(len(arr)-1):\n",
    "            if arr[i] > arr[i+1]:\n",
    "                arr[i], arr[i+1] = arr[i+1], arr[i]\n",
    "                swapped = True\n",
    "\n",
    "def polinomialP(arr, n):\n",
    "    sum = 0\n",
    "    for k in range(1, n):\n",
    "        try :\n",
    "            x = Decimal(pow(1.5, k-1))\n",
    "            sum += arr[k-1]*x\n",
    "        except OverflowError:\n",
    "            print(\"Got stuck at k = \", k)\n",
    "            return sum\n",
    "    return sum\n",
    "\n",
    "def polinomialPHornersMethod(arr, n):\n",
    "    result = 1\n",
    "    x = 1.5\n",
    "    for k in range(n-1, 0, -1):\n",
    "        try:\n",
    "            result = result*x\n",
    "            result = result+arr[k]\n",
    "        except OverflowError:\n",
    "            print(\"Got stuck at k = \", k)\n",
    "            return result\n",
    "    return result\n",
    "\n"
   ],
   "metadata": {
    "collapsed": false,
    "pycharm": {
     "name": "#%%\n"
    }
   }
  },
  {
   "cell_type": "markdown",
   "source": [
    "## Quick Sort"
   ],
   "metadata": {
    "collapsed": false,
    "pycharm": {
     "name": "#%% md\n"
    }
   }
  },
  {
   "cell_type": "code",
   "execution_count": null,
   "outputs": [],
   "source": [
    "def partition(l, r, vector):\n",
    "    # Last element will be the pivot and the first element the pointer\n",
    "    pivot, pointer = vector[r], l\n",
    "    for i in range(l, r):\n",
    "        if vector[i] <= pivot:\n",
    "            # Swapping values smaller than the pivot to the front\n",
    "            vector[i], vector[pointer] = vector[pointer], vector[i]\n",
    "            pointer += 1\n",
    "    # Swapping the last element with the pointer indexed number\n",
    "    vector[pointer], vector[r] = vector[r], vector[pointer]\n",
    "    return pointer\n",
    "\n",
    "def quicksort(left, right, vector):\n",
    "    if len(vector) == 1: # Terminating recursion\n",
    "        return vector\n",
    "    if left < right:\n",
    "        # Finding the pivot element\n",
    "        pi = partition(left, right, vector)\n",
    "        quicksort(left, pi-1, vector) # Recursively sorting values to the left of pivot\n",
    "        quicksort(pi+1, right, vector) # Recursively sorting values to the right of pivot\n",
    "    return vector"
   ],
   "metadata": {
    "collapsed": false,
    "pycharm": {
     "name": "#%%\n"
    }
   }
  },
  {
   "cell_type": "markdown",
   "source": [
    "##Matrix Multiplication\n"
   ],
   "metadata": {
    "collapsed": false,
    "pycharm": {
     "name": "#%% md\n"
    }
   }
  },
  {
   "cell_type": "code",
   "execution_count": null,
   "outputs": [],
   "source": [
    "def matrix_multiplication(matrix_a, matrix_b, n):\n",
    "    # new matrix C\n",
    "    global C\n",
    "    if matrix_a.shape[1] == matrix_b.shape[0]:\n",
    "        # Filling C with zeroes\n",
    "        C = np.zeros((matrix_a.shape[0], matrix_b.shape[1]),dtype = int)\n",
    "        for row in range(n):\n",
    "            for col in range(n):\n",
    "                for elt in range(len(matrix_b)):\n",
    "                    C[row, col] += matrix_a[row, elt] * matrix_b[elt, col]\n",
    "    # print(C)"
   ],
   "metadata": {
    "collapsed": false,
    "pycharm": {
     "name": "#%%\n"
    }
   }
  },
  {
   "cell_type": "code",
   "execution_count": null,
   "outputs": [],
   "source": [
    "MAX_LEN = 2000\n",
    "ITERATIONS = 5\n",
    "timestamps = []\n",
    "dimensions = []\n",
    "\n",
    "for length in range(1, MAX_LEN+1):\n",
    "    arr = generateRandomVector(length)\n",
    "\n",
    "    matrix_a = np.randint(1, 100, size=(length, length))\n",
    "    matrix_b = np.randint(1, 100, size=(length, length))\n",
    "    # print(\"Vector: \",arr)\n",
    "    ts = []\n",
    "    for i in range(ITERATIONS):\n",
    "        start = time.process_time()\n",
    "        # getFirst(arr)\n",
    "        # sumOfElements(arr)\n",
    "        # productOfElements(arr)\n",
    "        polinomialP(arr, length)\n",
    "        # polinomialPHornersMethod(arr, length)\n",
    "        # bubbleSort(arr)\n",
    "        # quicksort(0, len(arr)-1, arr)\n",
    "        # timSort(arr)\n",
    "        # matrix_multiplication(matrix_a,matrix_b,length)\n",
    "        end = time.process_time()\n",
    "        execution_time = end - start\n",
    "        ts.append(execution_time)\n",
    "    # print(ts)\n",
    "    average_time = statistics.mean(ts)\n",
    "    # print(average_time)\n",
    "    dimensions.append(length)\n",
    "    timestamps.append(average_time)"
   ],
   "metadata": {
    "collapsed": false,
    "pycharm": {
     "name": "#%%\n"
    }
   }
  },
  {
   "cell_type": "code",
   "execution_count": null,
   "outputs": [],
   "source": [
    "dimensions_bubblesort=dimensions\n",
    "timestamps_bubblesort=timestamps"
   ],
   "metadata": {
    "collapsed": false,
    "pycharm": {
     "name": "#%%\n"
    }
   }
  },
  {
   "cell_type": "code",
   "execution_count": null,
   "outputs": [],
   "source": [
    "from cmath import log\n",
    "import matplotlib.pyplot as plt\n",
    "\n",
    "plt.style.use('_mpl-gallery')\n",
    "\n",
    "fig = plt.figure(figsize=(10,5))\n",
    "ax = fig.add_axes([1, 1, 1, 1])\n",
    "ax.set_ylabel('Execution Time (in seconds)')\n",
    "ax.set_xlabel('Array Size')\n",
    "\n",
    "ax1 = ax.plot(dimensions, timestamps, label=\"Experimental Data\")\n",
    "# ax2 = ax.plot(dimensions, [each/pow(10, 7.37) for each in dimensions], label=\"Theoretical Data\")\n",
    "ax2 = ax.plot(dimensions, [each/pow(10, 6.85) for each in dimensions], label=\"Theoretical Data\")\n",
    "# ax2 = ax.plot(dimensions, [1/pow(10, 6) for each in dimensions], label=\"Theoretical Data\")\n",
    "# ax2 = ax.plot(dimensions, [(each*each)/pow(10, 7.55) for each in dimensions], label=\"Theoretical Data\")\n",
    "# ax2 = ax.plot(dimensions, [each*log(each)/pow(10, 6.7) for each in dimensions], label=\"Theoretical Data\")\n",
    "ax.legend(loc='upper right')\n",
    "\n",
    "\n",
    "#  This will plot a simple scatter chart\n",
    "# plt.scatter(x, y)\n",
    "plt.show()"
   ],
   "metadata": {
    "collapsed": false,
    "pycharm": {
     "name": "#%%\n"
    }
   }
  },
  {
   "cell_type": "code",
   "execution_count": null,
   "outputs": [],
   "source": [],
   "metadata": {
    "collapsed": false,
    "pycharm": {
     "name": "#%%\n"
    }
   }
  },
  {
   "cell_type": "code",
   "execution_count": 164,
   "outputs": [
    {
     "data": {
      "image/png": "[encoded data removed]",
      "text/plain": [
       "<Figure size 720x360 with 1 Axes>"
      ]
     },
     "metadata": {
      "needs_background": "light"
     },
     "output_type": "display_data"
    }
   ],
   "source": [
    "from cmath import log\n",
    "import matplotlib.pyplot as plt\n",
    "\n",
    "plt.style.use('_mpl-gallery')\n",
    "\n",
    "fig = plt.figure(figsize=(10,5))\n",
    "ax = fig.add_axes([1, 1, 1, 1])\n",
    "ax.set_ylabel('Execution Time (in seconds)')\n",
    "ax.set_xlabel('Array Size')\n",
    "\n",
    "ax1 = ax.plot(dimensions, timestamps, label=\"Experimental Data\")\n",
    "# ax2 = ax.plot(dimensions, [each/pow(10, 7.37) for each in dimensions], label=\"Theoretical Data\")\n",
    "ax2 = ax.plot(dimensions, [each/pow(10, 6.85) for each in dimensions], label=\"Theoretical Data\")\n",
    "# ax2 = ax.plot(dimensions, [1/pow(10, 6) for each in dimensions], label=\"Theoretical Data\")\n",
    "# ax2 = ax.plot(dimensions, [(each*each)/pow(10, 7.55) for each in dimensions], label=\"Theoretical Data\")\n",
    "# ax2 = ax.plot(dimensions, [each*log(each)/pow(10, 6.7) for each in dimensions], label=\"Theoretical Data\")\n",
    "ax.legend(loc='upper right')\n",
    "\n",
    "\n",
    "#  This will plot a simple scatter chart\n",
    "# plt.scatter(x, y)\n",
    "plt.show()"
   ],
   "metadata": {
    "collapsed": false,
    "pycharm": {
     "name": "#%%\n"
    }
   }
  }
 ],
 "metadata": {
  "kernelspec": {
   "display_name": "Python 3",
   "language": "python",
   "name": "python3"
  },
  "language_info": {
   "codemirror_mode": {
    "name": "ipython",
    "version": 2
   },
   "file_extension": ".py",
   "mimetype": "text/x-python",
   "name": "python",
   "nbconvert_exporter": "python",
   "pygments_lexer": "ipython2",
   "version": "2.7.6"
  }
 },
 "nbformat": 4,
 "nbformat_minor": 0
}